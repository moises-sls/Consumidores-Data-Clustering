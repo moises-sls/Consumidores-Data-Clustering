{
 "cells": [
  {
   "cell_type": "code",
   "execution_count": 2,
   "id": "f5fcff11",
   "metadata": {},
   "outputs": [],
   "source": [
    "import pandas as pd\n",
    "import matplotlib.pyplot as plt\n",
    "import seaborn as sns\n",
    "\n",
    "from sklearn.cluster import KMeans\n",
    "from sklearn.metrics import silhouette_score\n",
    "from sklearn.preprocessing import StandardScaler\n",
    "\n",
    "# Tornar os números mais legiveis\n",
    "pd.options.display.float_format = '{:20.2f}'.format\n",
    "\n",
    "# Mostrar todas as colunas\n",
    "pd.set_option('display.max_columns', 999)"
   ]
  },
  {
   "cell_type": "markdown",
   "id": "4b18eaae",
   "metadata": {},
   "source": [
    "### Análise Exploratória"
   ]
  },
  {
   "cell_type": "code",
   "execution_count": 3,
   "id": "2e564b63",
   "metadata": {},
   "outputs": [],
   "source": [
    "df = pd.read_excel(\"data/online_retail_II.xlsx\", sheet_name=0)"
   ]
  },
  {
   "cell_type": "code",
   "execution_count": 6,
   "id": "77661abf",
   "metadata": {},
   "outputs": [
    {
     "data": {
      "text/html": [
       "<div>\n",
       "<style scoped>\n",
       "    .dataframe tbody tr th:only-of-type {\n",
       "        vertical-align: middle;\n",
       "    }\n",
       "\n",
       "    .dataframe tbody tr th {\n",
       "        vertical-align: top;\n",
       "    }\n",
       "\n",
       "    .dataframe thead th {\n",
       "        text-align: right;\n",
       "    }\n",
       "</style>\n",
       "<table border=\"1\" class=\"dataframe\">\n",
       "  <thead>\n",
       "    <tr style=\"text-align: right;\">\n",
       "      <th></th>\n",
       "      <th>Invoice</th>\n",
       "      <th>StockCode</th>\n",
       "      <th>Description</th>\n",
       "      <th>Quantity</th>\n",
       "      <th>InvoiceDate</th>\n",
       "      <th>Price</th>\n",
       "      <th>Customer ID</th>\n",
       "      <th>Country</th>\n",
       "    </tr>\n",
       "  </thead>\n",
       "  <tbody>\n",
       "    <tr>\n",
       "      <th>0</th>\n",
       "      <td>489434</td>\n",
       "      <td>85048</td>\n",
       "      <td>15CM CHRISTMAS GLASS BALL 20 LIGHTS</td>\n",
       "      <td>12</td>\n",
       "      <td>2009-12-01 07:45:00</td>\n",
       "      <td>6.95</td>\n",
       "      <td>13085.00</td>\n",
       "      <td>United Kingdom</td>\n",
       "    </tr>\n",
       "    <tr>\n",
       "      <th>1</th>\n",
       "      <td>489434</td>\n",
       "      <td>79323P</td>\n",
       "      <td>PINK CHERRY LIGHTS</td>\n",
       "      <td>12</td>\n",
       "      <td>2009-12-01 07:45:00</td>\n",
       "      <td>6.75</td>\n",
       "      <td>13085.00</td>\n",
       "      <td>United Kingdom</td>\n",
       "    </tr>\n",
       "    <tr>\n",
       "      <th>2</th>\n",
       "      <td>489434</td>\n",
       "      <td>79323W</td>\n",
       "      <td>WHITE CHERRY LIGHTS</td>\n",
       "      <td>12</td>\n",
       "      <td>2009-12-01 07:45:00</td>\n",
       "      <td>6.75</td>\n",
       "      <td>13085.00</td>\n",
       "      <td>United Kingdom</td>\n",
       "    </tr>\n",
       "    <tr>\n",
       "      <th>3</th>\n",
       "      <td>489434</td>\n",
       "      <td>22041</td>\n",
       "      <td>RECORD FRAME 7\" SINGLE SIZE</td>\n",
       "      <td>48</td>\n",
       "      <td>2009-12-01 07:45:00</td>\n",
       "      <td>2.10</td>\n",
       "      <td>13085.00</td>\n",
       "      <td>United Kingdom</td>\n",
       "    </tr>\n",
       "    <tr>\n",
       "      <th>4</th>\n",
       "      <td>489434</td>\n",
       "      <td>21232</td>\n",
       "      <td>STRAWBERRY CERAMIC TRINKET BOX</td>\n",
       "      <td>24</td>\n",
       "      <td>2009-12-01 07:45:00</td>\n",
       "      <td>1.25</td>\n",
       "      <td>13085.00</td>\n",
       "      <td>United Kingdom</td>\n",
       "    </tr>\n",
       "  </tbody>\n",
       "</table>\n",
       "</div>"
      ],
      "text/plain": [
       "  Invoice StockCode                          Description  Quantity  \\\n",
       "0  489434     85048  15CM CHRISTMAS GLASS BALL 20 LIGHTS        12   \n",
       "1  489434    79323P                   PINK CHERRY LIGHTS        12   \n",
       "2  489434    79323W                  WHITE CHERRY LIGHTS        12   \n",
       "3  489434     22041         RECORD FRAME 7\" SINGLE SIZE         48   \n",
       "4  489434     21232       STRAWBERRY CERAMIC TRINKET BOX        24   \n",
       "\n",
       "          InvoiceDate                Price          Customer ID  \\\n",
       "0 2009-12-01 07:45:00                 6.95             13085.00   \n",
       "1 2009-12-01 07:45:00                 6.75             13085.00   \n",
       "2 2009-12-01 07:45:00                 6.75             13085.00   \n",
       "3 2009-12-01 07:45:00                 2.10             13085.00   \n",
       "4 2009-12-01 07:45:00                 1.25             13085.00   \n",
       "\n",
       "          Country  \n",
       "0  United Kingdom  \n",
       "1  United Kingdom  \n",
       "2  United Kingdom  \n",
       "3  United Kingdom  \n",
       "4  United Kingdom  "
      ]
     },
     "execution_count": 6,
     "metadata": {},
     "output_type": "execute_result"
    }
   ],
   "source": [
    "df.head(5)\n"
   ]
  },
  {
   "cell_type": "code",
   "execution_count": 7,
   "id": "3dd67a11",
   "metadata": {},
   "outputs": [
    {
     "name": "stdout",
     "output_type": "stream",
     "text": [
      "<class 'pandas.core.frame.DataFrame'>\n",
      "RangeIndex: 525461 entries, 0 to 525460\n",
      "Data columns (total 8 columns):\n",
      " #   Column       Non-Null Count   Dtype         \n",
      "---  ------       --------------   -----         \n",
      " 0   Invoice      525461 non-null  object        \n",
      " 1   StockCode    525461 non-null  object        \n",
      " 2   Description  522533 non-null  object        \n",
      " 3   Quantity     525461 non-null  int64         \n",
      " 4   InvoiceDate  525461 non-null  datetime64[ns]\n",
      " 5   Price        525461 non-null  float64       \n",
      " 6   Customer ID  417534 non-null  float64       \n",
      " 7   Country      525461 non-null  object        \n",
      "dtypes: datetime64[ns](1), float64(2), int64(1), object(4)\n",
      "memory usage: 32.1+ MB\n"
     ]
    }
   ],
   "source": [
    "df.info()"
   ]
  },
  {
   "cell_type": "code",
   "execution_count": 8,
   "id": "0eb4530a",
   "metadata": {},
   "outputs": [
    {
     "data": {
      "text/html": [
       "<div>\n",
       "<style scoped>\n",
       "    .dataframe tbody tr th:only-of-type {\n",
       "        vertical-align: middle;\n",
       "    }\n",
       "\n",
       "    .dataframe tbody tr th {\n",
       "        vertical-align: top;\n",
       "    }\n",
       "\n",
       "    .dataframe thead th {\n",
       "        text-align: right;\n",
       "    }\n",
       "</style>\n",
       "<table border=\"1\" class=\"dataframe\">\n",
       "  <thead>\n",
       "    <tr style=\"text-align: right;\">\n",
       "      <th></th>\n",
       "      <th>Quantity</th>\n",
       "      <th>InvoiceDate</th>\n",
       "      <th>Price</th>\n",
       "      <th>Customer ID</th>\n",
       "    </tr>\n",
       "  </thead>\n",
       "  <tbody>\n",
       "    <tr>\n",
       "      <th>count</th>\n",
       "      <td>525461.00</td>\n",
       "      <td>525461</td>\n",
       "      <td>525461.00</td>\n",
       "      <td>417534.00</td>\n",
       "    </tr>\n",
       "    <tr>\n",
       "      <th>mean</th>\n",
       "      <td>10.34</td>\n",
       "      <td>2010-06-28 11:37:36.845017856</td>\n",
       "      <td>4.69</td>\n",
       "      <td>15360.65</td>\n",
       "    </tr>\n",
       "    <tr>\n",
       "      <th>min</th>\n",
       "      <td>-9600.00</td>\n",
       "      <td>2009-12-01 07:45:00</td>\n",
       "      <td>-53594.36</td>\n",
       "      <td>12346.00</td>\n",
       "    </tr>\n",
       "    <tr>\n",
       "      <th>25%</th>\n",
       "      <td>1.00</td>\n",
       "      <td>2010-03-21 12:20:00</td>\n",
       "      <td>1.25</td>\n",
       "      <td>13983.00</td>\n",
       "    </tr>\n",
       "    <tr>\n",
       "      <th>50%</th>\n",
       "      <td>3.00</td>\n",
       "      <td>2010-07-06 09:51:00</td>\n",
       "      <td>2.10</td>\n",
       "      <td>15311.00</td>\n",
       "    </tr>\n",
       "    <tr>\n",
       "      <th>75%</th>\n",
       "      <td>10.00</td>\n",
       "      <td>2010-10-15 12:45:00</td>\n",
       "      <td>4.21</td>\n",
       "      <td>16799.00</td>\n",
       "    </tr>\n",
       "    <tr>\n",
       "      <th>max</th>\n",
       "      <td>19152.00</td>\n",
       "      <td>2010-12-09 20:01:00</td>\n",
       "      <td>25111.09</td>\n",
       "      <td>18287.00</td>\n",
       "    </tr>\n",
       "    <tr>\n",
       "      <th>std</th>\n",
       "      <td>107.42</td>\n",
       "      <td>NaN</td>\n",
       "      <td>146.13</td>\n",
       "      <td>1680.81</td>\n",
       "    </tr>\n",
       "  </tbody>\n",
       "</table>\n",
       "</div>"
      ],
      "text/plain": [
       "                  Quantity                    InvoiceDate  \\\n",
       "count            525461.00                         525461   \n",
       "mean                 10.34  2010-06-28 11:37:36.845017856   \n",
       "min               -9600.00            2009-12-01 07:45:00   \n",
       "25%                   1.00            2010-03-21 12:20:00   \n",
       "50%                   3.00            2010-07-06 09:51:00   \n",
       "75%                  10.00            2010-10-15 12:45:00   \n",
       "max               19152.00            2010-12-09 20:01:00   \n",
       "std                 107.42                            NaN   \n",
       "\n",
       "                     Price          Customer ID  \n",
       "count            525461.00            417534.00  \n",
       "mean                  4.69             15360.65  \n",
       "min              -53594.36             12346.00  \n",
       "25%                   1.25             13983.00  \n",
       "50%                   2.10             15311.00  \n",
       "75%                   4.21             16799.00  \n",
       "max               25111.09             18287.00  \n",
       "std                 146.13              1680.81  "
      ]
     },
     "execution_count": 8,
     "metadata": {},
     "output_type": "execute_result"
    }
   ],
   "source": [
    "df.describe()"
   ]
  },
  {
   "cell_type": "code",
   "execution_count": 9,
   "id": "75e45aed",
   "metadata": {},
   "outputs": [
    {
     "data": {
      "text/html": [
       "<div>\n",
       "<style scoped>\n",
       "    .dataframe tbody tr th:only-of-type {\n",
       "        vertical-align: middle;\n",
       "    }\n",
       "\n",
       "    .dataframe tbody tr th {\n",
       "        vertical-align: top;\n",
       "    }\n",
       "\n",
       "    .dataframe thead th {\n",
       "        text-align: right;\n",
       "    }\n",
       "</style>\n",
       "<table border=\"1\" class=\"dataframe\">\n",
       "  <thead>\n",
       "    <tr style=\"text-align: right;\">\n",
       "      <th></th>\n",
       "      <th>Invoice</th>\n",
       "      <th>StockCode</th>\n",
       "      <th>Description</th>\n",
       "      <th>Country</th>\n",
       "    </tr>\n",
       "  </thead>\n",
       "  <tbody>\n",
       "    <tr>\n",
       "      <th>count</th>\n",
       "      <td>525461</td>\n",
       "      <td>525461</td>\n",
       "      <td>522533</td>\n",
       "      <td>525461</td>\n",
       "    </tr>\n",
       "    <tr>\n",
       "      <th>unique</th>\n",
       "      <td>28816</td>\n",
       "      <td>4632</td>\n",
       "      <td>4681</td>\n",
       "      <td>40</td>\n",
       "    </tr>\n",
       "    <tr>\n",
       "      <th>top</th>\n",
       "      <td>537434</td>\n",
       "      <td>85123A</td>\n",
       "      <td>WHITE HANGING HEART T-LIGHT HOLDER</td>\n",
       "      <td>United Kingdom</td>\n",
       "    </tr>\n",
       "    <tr>\n",
       "      <th>freq</th>\n",
       "      <td>675</td>\n",
       "      <td>3516</td>\n",
       "      <td>3549</td>\n",
       "      <td>485852</td>\n",
       "    </tr>\n",
       "  </tbody>\n",
       "</table>\n",
       "</div>"
      ],
      "text/plain": [
       "        Invoice StockCode                         Description         Country\n",
       "count    525461    525461                              522533          525461\n",
       "unique    28816      4632                                4681              40\n",
       "top      537434    85123A  WHITE HANGING HEART T-LIGHT HOLDER  United Kingdom\n",
       "freq        675      3516                                3549          485852"
      ]
     },
     "execution_count": 9,
     "metadata": {},
     "output_type": "execute_result"
    }
   ],
   "source": [
    "df.describe(include='O')"
   ]
  },
  {
   "cell_type": "markdown",
   "id": "d175573b",
   "metadata": {},
   "source": [
    "##### Customer ID"
   ]
  },
  {
   "cell_type": "code",
   "execution_count": 10,
   "id": "e69b2f2b",
   "metadata": {},
   "outputs": [
    {
     "data": {
      "text/html": [
       "<div>\n",
       "<style scoped>\n",
       "    .dataframe tbody tr th:only-of-type {\n",
       "        vertical-align: middle;\n",
       "    }\n",
       "\n",
       "    .dataframe tbody tr th {\n",
       "        vertical-align: top;\n",
       "    }\n",
       "\n",
       "    .dataframe thead th {\n",
       "        text-align: right;\n",
       "    }\n",
       "</style>\n",
       "<table border=\"1\" class=\"dataframe\">\n",
       "  <thead>\n",
       "    <tr style=\"text-align: right;\">\n",
       "      <th></th>\n",
       "      <th>Invoice</th>\n",
       "      <th>StockCode</th>\n",
       "      <th>Description</th>\n",
       "      <th>Quantity</th>\n",
       "      <th>InvoiceDate</th>\n",
       "      <th>Price</th>\n",
       "      <th>Customer ID</th>\n",
       "      <th>Country</th>\n",
       "    </tr>\n",
       "  </thead>\n",
       "  <tbody>\n",
       "    <tr>\n",
       "      <th>263</th>\n",
       "      <td>489464</td>\n",
       "      <td>21733</td>\n",
       "      <td>85123a mixed</td>\n",
       "      <td>-96</td>\n",
       "      <td>2009-12-01 10:52:00</td>\n",
       "      <td>0.00</td>\n",
       "      <td>NaN</td>\n",
       "      <td>United Kingdom</td>\n",
       "    </tr>\n",
       "    <tr>\n",
       "      <th>283</th>\n",
       "      <td>489463</td>\n",
       "      <td>71477</td>\n",
       "      <td>short</td>\n",
       "      <td>-240</td>\n",
       "      <td>2009-12-01 10:52:00</td>\n",
       "      <td>0.00</td>\n",
       "      <td>NaN</td>\n",
       "      <td>United Kingdom</td>\n",
       "    </tr>\n",
       "    <tr>\n",
       "      <th>284</th>\n",
       "      <td>489467</td>\n",
       "      <td>85123A</td>\n",
       "      <td>21733 mixed</td>\n",
       "      <td>-192</td>\n",
       "      <td>2009-12-01 10:53:00</td>\n",
       "      <td>0.00</td>\n",
       "      <td>NaN</td>\n",
       "      <td>United Kingdom</td>\n",
       "    </tr>\n",
       "    <tr>\n",
       "      <th>470</th>\n",
       "      <td>489521</td>\n",
       "      <td>21646</td>\n",
       "      <td>NaN</td>\n",
       "      <td>-50</td>\n",
       "      <td>2009-12-01 11:44:00</td>\n",
       "      <td>0.00</td>\n",
       "      <td>NaN</td>\n",
       "      <td>United Kingdom</td>\n",
       "    </tr>\n",
       "    <tr>\n",
       "      <th>577</th>\n",
       "      <td>489525</td>\n",
       "      <td>85226C</td>\n",
       "      <td>BLUE PULL BACK RACING CAR</td>\n",
       "      <td>1</td>\n",
       "      <td>2009-12-01 11:49:00</td>\n",
       "      <td>0.55</td>\n",
       "      <td>NaN</td>\n",
       "      <td>United Kingdom</td>\n",
       "    </tr>\n",
       "  </tbody>\n",
       "</table>\n",
       "</div>"
      ],
      "text/plain": [
       "    Invoice StockCode                Description  Quantity  \\\n",
       "263  489464     21733               85123a mixed       -96   \n",
       "283  489463     71477                      short      -240   \n",
       "284  489467    85123A                21733 mixed      -192   \n",
       "470  489521     21646                        NaN       -50   \n",
       "577  489525    85226C  BLUE PULL BACK RACING CAR         1   \n",
       "\n",
       "            InvoiceDate                Price  Customer ID         Country  \n",
       "263 2009-12-01 10:52:00                 0.00          NaN  United Kingdom  \n",
       "283 2009-12-01 10:52:00                 0.00          NaN  United Kingdom  \n",
       "284 2009-12-01 10:53:00                 0.00          NaN  United Kingdom  \n",
       "470 2009-12-01 11:44:00                 0.00          NaN  United Kingdom  \n",
       "577 2009-12-01 11:49:00                 0.55          NaN  United Kingdom  "
      ]
     },
     "execution_count": 10,
     "metadata": {},
     "output_type": "execute_result"
    }
   ],
   "source": [
    "df[df['Customer ID']. isna()].head(5)"
   ]
  },
  {
   "cell_type": "markdown",
   "id": "c9f9a844",
   "metadata": {},
   "source": [
    "Como estamos fazendo um estudo sobre o hábito dos consumidores, entradas que não possuem um 'Customer ID' serão eliminadas do banco de dados\n"
   ]
  },
  {
   "cell_type": "markdown",
   "id": "361c9f6f",
   "metadata": {},
   "source": [
    "##### Quantity"
   ]
  },
  {
   "cell_type": "code",
   "execution_count": 11,
   "id": "9fe65dfb",
   "metadata": {},
   "outputs": [
    {
     "data": {
      "text/html": [
       "<div>\n",
       "<style scoped>\n",
       "    .dataframe tbody tr th:only-of-type {\n",
       "        vertical-align: middle;\n",
       "    }\n",
       "\n",
       "    .dataframe tbody tr th {\n",
       "        vertical-align: top;\n",
       "    }\n",
       "\n",
       "    .dataframe thead th {\n",
       "        text-align: right;\n",
       "    }\n",
       "</style>\n",
       "<table border=\"1\" class=\"dataframe\">\n",
       "  <thead>\n",
       "    <tr style=\"text-align: right;\">\n",
       "      <th></th>\n",
       "      <th>Invoice</th>\n",
       "      <th>StockCode</th>\n",
       "      <th>Description</th>\n",
       "      <th>Quantity</th>\n",
       "      <th>InvoiceDate</th>\n",
       "      <th>Price</th>\n",
       "      <th>Customer ID</th>\n",
       "      <th>Country</th>\n",
       "    </tr>\n",
       "  </thead>\n",
       "  <tbody>\n",
       "    <tr>\n",
       "      <th>178</th>\n",
       "      <td>C489449</td>\n",
       "      <td>22087</td>\n",
       "      <td>PAPER BUNTING WHITE LACE</td>\n",
       "      <td>-12</td>\n",
       "      <td>2009-12-01 10:33:00</td>\n",
       "      <td>2.95</td>\n",
       "      <td>16321.00</td>\n",
       "      <td>Australia</td>\n",
       "    </tr>\n",
       "    <tr>\n",
       "      <th>179</th>\n",
       "      <td>C489449</td>\n",
       "      <td>85206A</td>\n",
       "      <td>CREAM FELT EASTER EGG BASKET</td>\n",
       "      <td>-6</td>\n",
       "      <td>2009-12-01 10:33:00</td>\n",
       "      <td>1.65</td>\n",
       "      <td>16321.00</td>\n",
       "      <td>Australia</td>\n",
       "    </tr>\n",
       "    <tr>\n",
       "      <th>180</th>\n",
       "      <td>C489449</td>\n",
       "      <td>21895</td>\n",
       "      <td>POTTING SHED SOW 'N' GROW SET</td>\n",
       "      <td>-4</td>\n",
       "      <td>2009-12-01 10:33:00</td>\n",
       "      <td>4.25</td>\n",
       "      <td>16321.00</td>\n",
       "      <td>Australia</td>\n",
       "    </tr>\n",
       "    <tr>\n",
       "      <th>181</th>\n",
       "      <td>C489449</td>\n",
       "      <td>21896</td>\n",
       "      <td>POTTING SHED TWINE</td>\n",
       "      <td>-6</td>\n",
       "      <td>2009-12-01 10:33:00</td>\n",
       "      <td>2.10</td>\n",
       "      <td>16321.00</td>\n",
       "      <td>Australia</td>\n",
       "    </tr>\n",
       "    <tr>\n",
       "      <th>182</th>\n",
       "      <td>C489449</td>\n",
       "      <td>22083</td>\n",
       "      <td>PAPER CHAIN KIT RETRO SPOT</td>\n",
       "      <td>-12</td>\n",
       "      <td>2009-12-01 10:33:00</td>\n",
       "      <td>2.95</td>\n",
       "      <td>16321.00</td>\n",
       "      <td>Australia</td>\n",
       "    </tr>\n",
       "  </tbody>\n",
       "</table>\n",
       "</div>"
      ],
      "text/plain": [
       "     Invoice StockCode                    Description  Quantity  \\\n",
       "178  C489449     22087       PAPER BUNTING WHITE LACE       -12   \n",
       "179  C489449    85206A   CREAM FELT EASTER EGG BASKET        -6   \n",
       "180  C489449     21895  POTTING SHED SOW 'N' GROW SET        -4   \n",
       "181  C489449     21896             POTTING SHED TWINE        -6   \n",
       "182  C489449     22083     PAPER CHAIN KIT RETRO SPOT       -12   \n",
       "\n",
       "            InvoiceDate                Price          Customer ID    Country  \n",
       "178 2009-12-01 10:33:00                 2.95             16321.00  Australia  \n",
       "179 2009-12-01 10:33:00                 1.65             16321.00  Australia  \n",
       "180 2009-12-01 10:33:00                 4.25             16321.00  Australia  \n",
       "181 2009-12-01 10:33:00                 2.10             16321.00  Australia  \n",
       "182 2009-12-01 10:33:00                 2.95             16321.00  Australia  "
      ]
     },
     "execution_count": 11,
     "metadata": {},
     "output_type": "execute_result"
    }
   ],
   "source": [
    "df[df[\"Quantity\"] < 0].head(5)"
   ]
  },
  {
   "cell_type": "markdown",
   "id": "008b3b03",
   "metadata": {},
   "source": [
    "Como não faz sentido um item ser vendido uma quantidade negativa de vezes, essas entradas também serão removidas do banco de dados"
   ]
  },
  {
   "cell_type": "markdown",
   "id": "2a3bda94",
   "metadata": {},
   "source": [
    "##### Invoice"
   ]
  },
  {
   "cell_type": "markdown",
   "id": "d83f7f09",
   "metadata": {},
   "source": [
    "Sobre a coluna \"Invoice\", ela corresponde ao número da fatura, um valor único para cada pedido. É composta de 6 digitos numéricos, podendo conter a letra 'C' no início, indicando um cancelamento. Vamos verificar se todas as observações estão de acordo com essa regra."
   ]
  },
  {
   "cell_type": "code",
   "execution_count": 19,
   "id": "768669df",
   "metadata": {},
   "outputs": [
    {
     "data": {
      "text/html": [
       "<div>\n",
       "<style scoped>\n",
       "    .dataframe tbody tr th:only-of-type {\n",
       "        vertical-align: middle;\n",
       "    }\n",
       "\n",
       "    .dataframe tbody tr th {\n",
       "        vertical-align: top;\n",
       "    }\n",
       "\n",
       "    .dataframe thead th {\n",
       "        text-align: right;\n",
       "    }\n",
       "</style>\n",
       "<table border=\"1\" class=\"dataframe\">\n",
       "  <thead>\n",
       "    <tr style=\"text-align: right;\">\n",
       "      <th></th>\n",
       "      <th>Invoice</th>\n",
       "      <th>StockCode</th>\n",
       "      <th>Description</th>\n",
       "      <th>Quantity</th>\n",
       "      <th>InvoiceDate</th>\n",
       "      <th>Price</th>\n",
       "      <th>Customer ID</th>\n",
       "      <th>Country</th>\n",
       "    </tr>\n",
       "  </thead>\n",
       "  <tbody>\n",
       "    <tr>\n",
       "      <th>178</th>\n",
       "      <td>C489449</td>\n",
       "      <td>22087</td>\n",
       "      <td>PAPER BUNTING WHITE LACE</td>\n",
       "      <td>-12</td>\n",
       "      <td>2009-12-01 10:33:00</td>\n",
       "      <td>2.95</td>\n",
       "      <td>16321.00</td>\n",
       "      <td>Australia</td>\n",
       "    </tr>\n",
       "    <tr>\n",
       "      <th>179</th>\n",
       "      <td>C489449</td>\n",
       "      <td>85206A</td>\n",
       "      <td>CREAM FELT EASTER EGG BASKET</td>\n",
       "      <td>-6</td>\n",
       "      <td>2009-12-01 10:33:00</td>\n",
       "      <td>1.65</td>\n",
       "      <td>16321.00</td>\n",
       "      <td>Australia</td>\n",
       "    </tr>\n",
       "    <tr>\n",
       "      <th>180</th>\n",
       "      <td>C489449</td>\n",
       "      <td>21895</td>\n",
       "      <td>POTTING SHED SOW 'N' GROW SET</td>\n",
       "      <td>-4</td>\n",
       "      <td>2009-12-01 10:33:00</td>\n",
       "      <td>4.25</td>\n",
       "      <td>16321.00</td>\n",
       "      <td>Australia</td>\n",
       "    </tr>\n",
       "    <tr>\n",
       "      <th>181</th>\n",
       "      <td>C489449</td>\n",
       "      <td>21896</td>\n",
       "      <td>POTTING SHED TWINE</td>\n",
       "      <td>-6</td>\n",
       "      <td>2009-12-01 10:33:00</td>\n",
       "      <td>2.10</td>\n",
       "      <td>16321.00</td>\n",
       "      <td>Australia</td>\n",
       "    </tr>\n",
       "    <tr>\n",
       "      <th>182</th>\n",
       "      <td>C489449</td>\n",
       "      <td>22083</td>\n",
       "      <td>PAPER CHAIN KIT RETRO SPOT</td>\n",
       "      <td>-12</td>\n",
       "      <td>2009-12-01 10:33:00</td>\n",
       "      <td>2.95</td>\n",
       "      <td>16321.00</td>\n",
       "      <td>Australia</td>\n",
       "    </tr>\n",
       "  </tbody>\n",
       "</table>\n",
       "</div>"
      ],
      "text/plain": [
       "     Invoice StockCode                    Description  Quantity  \\\n",
       "178  C489449     22087       PAPER BUNTING WHITE LACE       -12   \n",
       "179  C489449    85206A   CREAM FELT EASTER EGG BASKET        -6   \n",
       "180  C489449     21895  POTTING SHED SOW 'N' GROW SET        -4   \n",
       "181  C489449     21896             POTTING SHED TWINE        -6   \n",
       "182  C489449     22083     PAPER CHAIN KIT RETRO SPOT       -12   \n",
       "\n",
       "            InvoiceDate                Price          Customer ID    Country  \n",
       "178 2009-12-01 10:33:00                 2.95             16321.00  Australia  \n",
       "179 2009-12-01 10:33:00                 1.65             16321.00  Australia  \n",
       "180 2009-12-01 10:33:00                 4.25             16321.00  Australia  \n",
       "181 2009-12-01 10:33:00                 2.10             16321.00  Australia  \n",
       "182 2009-12-01 10:33:00                 2.95             16321.00  Australia  "
      ]
     },
     "execution_count": 19,
     "metadata": {},
     "output_type": "execute_result"
    }
   ],
   "source": [
    "df[\"Invoice\"] = df[\"Invoice\"].astype(\"str\")\n",
    "df[df[\"Invoice\"].str.match(\"^\\\\d{6}$\") == False].head()\n"
   ]
  },
  {
   "cell_type": "code",
   "execution_count": 20,
   "id": "7ade35e7",
   "metadata": {},
   "outputs": [
    {
     "data": {
      "text/html": [
       "<div>\n",
       "<style scoped>\n",
       "    .dataframe tbody tr th:only-of-type {\n",
       "        vertical-align: middle;\n",
       "    }\n",
       "\n",
       "    .dataframe tbody tr th {\n",
       "        vertical-align: top;\n",
       "    }\n",
       "\n",
       "    .dataframe thead th {\n",
       "        text-align: right;\n",
       "    }\n",
       "</style>\n",
       "<table border=\"1\" class=\"dataframe\">\n",
       "  <thead>\n",
       "    <tr style=\"text-align: right;\">\n",
       "      <th></th>\n",
       "      <th>Invoice</th>\n",
       "      <th>StockCode</th>\n",
       "      <th>Description</th>\n",
       "      <th>Quantity</th>\n",
       "      <th>InvoiceDate</th>\n",
       "      <th>Price</th>\n",
       "      <th>Customer ID</th>\n",
       "      <th>Country</th>\n",
       "    </tr>\n",
       "  </thead>\n",
       "  <tbody>\n",
       "    <tr>\n",
       "      <th>178</th>\n",
       "      <td>C489449</td>\n",
       "      <td>22087</td>\n",
       "      <td>PAPER BUNTING WHITE LACE</td>\n",
       "      <td>-12</td>\n",
       "      <td>2009-12-01 10:33:00</td>\n",
       "      <td>2.95</td>\n",
       "      <td>16321.00</td>\n",
       "      <td>Australia</td>\n",
       "    </tr>\n",
       "    <tr>\n",
       "      <th>179</th>\n",
       "      <td>C489449</td>\n",
       "      <td>85206A</td>\n",
       "      <td>CREAM FELT EASTER EGG BASKET</td>\n",
       "      <td>-6</td>\n",
       "      <td>2009-12-01 10:33:00</td>\n",
       "      <td>1.65</td>\n",
       "      <td>16321.00</td>\n",
       "      <td>Australia</td>\n",
       "    </tr>\n",
       "    <tr>\n",
       "      <th>180</th>\n",
       "      <td>C489449</td>\n",
       "      <td>21895</td>\n",
       "      <td>POTTING SHED SOW 'N' GROW SET</td>\n",
       "      <td>-4</td>\n",
       "      <td>2009-12-01 10:33:00</td>\n",
       "      <td>4.25</td>\n",
       "      <td>16321.00</td>\n",
       "      <td>Australia</td>\n",
       "    </tr>\n",
       "    <tr>\n",
       "      <th>181</th>\n",
       "      <td>C489449</td>\n",
       "      <td>21896</td>\n",
       "      <td>POTTING SHED TWINE</td>\n",
       "      <td>-6</td>\n",
       "      <td>2009-12-01 10:33:00</td>\n",
       "      <td>2.10</td>\n",
       "      <td>16321.00</td>\n",
       "      <td>Australia</td>\n",
       "    </tr>\n",
       "    <tr>\n",
       "      <th>182</th>\n",
       "      <td>C489449</td>\n",
       "      <td>22083</td>\n",
       "      <td>PAPER CHAIN KIT RETRO SPOT</td>\n",
       "      <td>-12</td>\n",
       "      <td>2009-12-01 10:33:00</td>\n",
       "      <td>2.95</td>\n",
       "      <td>16321.00</td>\n",
       "      <td>Australia</td>\n",
       "    </tr>\n",
       "  </tbody>\n",
       "</table>\n",
       "</div>"
      ],
      "text/plain": [
       "     Invoice StockCode                    Description  Quantity  \\\n",
       "178  C489449     22087       PAPER BUNTING WHITE LACE       -12   \n",
       "179  C489449    85206A   CREAM FELT EASTER EGG BASKET        -6   \n",
       "180  C489449     21895  POTTING SHED SOW 'N' GROW SET        -4   \n",
       "181  C489449     21896             POTTING SHED TWINE        -6   \n",
       "182  C489449     22083     PAPER CHAIN KIT RETRO SPOT       -12   \n",
       "\n",
       "            InvoiceDate                Price          Customer ID    Country  \n",
       "178 2009-12-01 10:33:00                 2.95             16321.00  Australia  \n",
       "179 2009-12-01 10:33:00                 1.65             16321.00  Australia  \n",
       "180 2009-12-01 10:33:00                 4.25             16321.00  Australia  \n",
       "181 2009-12-01 10:33:00                 2.10             16321.00  Australia  \n",
       "182 2009-12-01 10:33:00                 2.95             16321.00  Australia  "
      ]
     },
     "execution_count": 20,
     "metadata": {},
     "output_type": "execute_result"
    }
   ],
   "source": [
    "df[\"Invoice\"] = df[\"Invoice\"].astype(\"str\")\n",
    "\n",
    "df[df[\"Invoice\"].str.match(\"^\\\\d{6}$\") == False].head()\n",
    "# usando expressões regex, estamos verificando se a string começa (^) com 6 digitos \n",
    "# (\\\\d) e termina com apenas esses digitos e mais nenhum caractere."
   ]
  },
  {
   "cell_type": "markdown",
   "id": "bf1b4f24",
   "metadata": {},
   "source": [
    "Percebemos que existem valores com a letra \"C\" no início do número da fatura, mas para verificar se existem outros casos, podemos remover os digitos númericos [0-9] e verificar quantos valores únicos existem, se todos os dados estiverem seguindo as regras, devemos ter apenas os valores [\"\", \"C\"]."
   ]
  },
  {
   "cell_type": "code",
   "execution_count": 16,
   "id": "766263ac",
   "metadata": {},
   "outputs": [
    {
     "data": {
      "text/plain": [
       "array(['', 'C', 'A'], dtype=object)"
      ]
     },
     "execution_count": 16,
     "metadata": {},
     "output_type": "execute_result"
    }
   ],
   "source": [
    "df[\"Invoice\"].str.replace(\"[0-9]\", \"\", regex=True).unique()\n",
    "# novamente usando regex, acessamos o atributo string do objeto DataFrame, \n",
    "# e substituimos, na string, os valores de 0 a 9 pela string vazia (\"\"), e contamos quantos\n",
    "# valores são únicos"
   ]
  },
  {
   "cell_type": "code",
   "execution_count": 18,
   "id": "f00afee0",
   "metadata": {},
   "outputs": [
    {
     "data": {
      "text/html": [
       "<div>\n",
       "<style scoped>\n",
       "    .dataframe tbody tr th:only-of-type {\n",
       "        vertical-align: middle;\n",
       "    }\n",
       "\n",
       "    .dataframe tbody tr th {\n",
       "        vertical-align: top;\n",
       "    }\n",
       "\n",
       "    .dataframe thead th {\n",
       "        text-align: right;\n",
       "    }\n",
       "</style>\n",
       "<table border=\"1\" class=\"dataframe\">\n",
       "  <thead>\n",
       "    <tr style=\"text-align: right;\">\n",
       "      <th></th>\n",
       "      <th>Invoice</th>\n",
       "      <th>StockCode</th>\n",
       "      <th>Description</th>\n",
       "      <th>Quantity</th>\n",
       "      <th>InvoiceDate</th>\n",
       "      <th>Price</th>\n",
       "      <th>Customer ID</th>\n",
       "      <th>Country</th>\n",
       "    </tr>\n",
       "  </thead>\n",
       "  <tbody>\n",
       "    <tr>\n",
       "      <th>179403</th>\n",
       "      <td>A506401</td>\n",
       "      <td>B</td>\n",
       "      <td>Adjust bad debt</td>\n",
       "      <td>1</td>\n",
       "      <td>2010-04-29 13:36:00</td>\n",
       "      <td>-53594.36</td>\n",
       "      <td>NaN</td>\n",
       "      <td>United Kingdom</td>\n",
       "    </tr>\n",
       "    <tr>\n",
       "      <th>276274</th>\n",
       "      <td>A516228</td>\n",
       "      <td>B</td>\n",
       "      <td>Adjust bad debt</td>\n",
       "      <td>1</td>\n",
       "      <td>2010-07-19 11:24:00</td>\n",
       "      <td>-44031.79</td>\n",
       "      <td>NaN</td>\n",
       "      <td>United Kingdom</td>\n",
       "    </tr>\n",
       "    <tr>\n",
       "      <th>403472</th>\n",
       "      <td>A528059</td>\n",
       "      <td>B</td>\n",
       "      <td>Adjust bad debt</td>\n",
       "      <td>1</td>\n",
       "      <td>2010-10-20 12:04:00</td>\n",
       "      <td>-38925.87</td>\n",
       "      <td>NaN</td>\n",
       "      <td>United Kingdom</td>\n",
       "    </tr>\n",
       "  </tbody>\n",
       "</table>\n",
       "</div>"
      ],
      "text/plain": [
       "        Invoice StockCode      Description  Quantity         InvoiceDate  \\\n",
       "179403  A506401         B  Adjust bad debt         1 2010-04-29 13:36:00   \n",
       "276274  A516228         B  Adjust bad debt         1 2010-07-19 11:24:00   \n",
       "403472  A528059         B  Adjust bad debt         1 2010-10-20 12:04:00   \n",
       "\n",
       "                      Price  Customer ID         Country  \n",
       "179403            -53594.36          NaN  United Kingdom  \n",
       "276274            -44031.79          NaN  United Kingdom  \n",
       "403472            -38925.87          NaN  United Kingdom  "
      ]
     },
     "execution_count": 18,
     "metadata": {},
     "output_type": "execute_result"
    }
   ],
   "source": [
    "df[df[\"Invoice\"].str.contains(\"A\")]"
   ]
  },
  {
   "cell_type": "markdown",
   "id": "cb14f1dd",
   "metadata": {},
   "source": [
    "Percebemos que existem valores de \"Invoice\" que contém o caractere \"A\", observando esses valores, percebemos que todos possuem o \"CustomerID\" = NaN, logo serão rertirados do banco de dados."
   ]
  },
  {
   "cell_type": "markdown",
   "id": "82e1a223",
   "metadata": {},
   "source": [
    "##### StockCode"
   ]
  },
  {
   "cell_type": "markdown",
   "id": "6b9902bd",
   "metadata": {},
   "source": [
    "A variável \"StockCode\" é um numério inteiro único de 5 digitos para cada produto distinto"
   ]
  },
  {
   "cell_type": "code",
   "execution_count": 32,
   "id": "2303e3e5",
   "metadata": {},
   "outputs": [
    {
     "data": {
      "text/html": [
       "<div>\n",
       "<style scoped>\n",
       "    .dataframe tbody tr th:only-of-type {\n",
       "        vertical-align: middle;\n",
       "    }\n",
       "\n",
       "    .dataframe tbody tr th {\n",
       "        vertical-align: top;\n",
       "    }\n",
       "\n",
       "    .dataframe thead th {\n",
       "        text-align: right;\n",
       "    }\n",
       "</style>\n",
       "<table border=\"1\" class=\"dataframe\">\n",
       "  <thead>\n",
       "    <tr style=\"text-align: right;\">\n",
       "      <th></th>\n",
       "      <th>Invoice</th>\n",
       "      <th>StockCode</th>\n",
       "      <th>Description</th>\n",
       "      <th>Quantity</th>\n",
       "      <th>InvoiceDate</th>\n",
       "      <th>Price</th>\n",
       "      <th>Customer ID</th>\n",
       "      <th>Country</th>\n",
       "    </tr>\n",
       "  </thead>\n",
       "  <tbody>\n",
       "    <tr>\n",
       "      <th>1</th>\n",
       "      <td>489434</td>\n",
       "      <td>79323P</td>\n",
       "      <td>PINK CHERRY LIGHTS</td>\n",
       "      <td>12</td>\n",
       "      <td>2009-12-01 07:45:00</td>\n",
       "      <td>6.75</td>\n",
       "      <td>13085.00</td>\n",
       "      <td>United Kingdom</td>\n",
       "    </tr>\n",
       "    <tr>\n",
       "      <th>2</th>\n",
       "      <td>489434</td>\n",
       "      <td>79323W</td>\n",
       "      <td>WHITE CHERRY LIGHTS</td>\n",
       "      <td>12</td>\n",
       "      <td>2009-12-01 07:45:00</td>\n",
       "      <td>6.75</td>\n",
       "      <td>13085.00</td>\n",
       "      <td>United Kingdom</td>\n",
       "    </tr>\n",
       "    <tr>\n",
       "      <th>12</th>\n",
       "      <td>489436</td>\n",
       "      <td>48173C</td>\n",
       "      <td>DOOR MAT BLACK FLOCK</td>\n",
       "      <td>10</td>\n",
       "      <td>2009-12-01 09:06:00</td>\n",
       "      <td>5.95</td>\n",
       "      <td>13078.00</td>\n",
       "      <td>United Kingdom</td>\n",
       "    </tr>\n",
       "    <tr>\n",
       "      <th>23</th>\n",
       "      <td>489436</td>\n",
       "      <td>35004B</td>\n",
       "      <td>SET OF 3 BLACK FLYING DUCKS</td>\n",
       "      <td>12</td>\n",
       "      <td>2009-12-01 09:06:00</td>\n",
       "      <td>4.65</td>\n",
       "      <td>13078.00</td>\n",
       "      <td>United Kingdom</td>\n",
       "    </tr>\n",
       "    <tr>\n",
       "      <th>28</th>\n",
       "      <td>489436</td>\n",
       "      <td>84596F</td>\n",
       "      <td>SMALL MARSHMALLOWS PINK BOWL</td>\n",
       "      <td>8</td>\n",
       "      <td>2009-12-01 09:06:00</td>\n",
       "      <td>1.25</td>\n",
       "      <td>13078.00</td>\n",
       "      <td>United Kingdom</td>\n",
       "    </tr>\n",
       "  </tbody>\n",
       "</table>\n",
       "</div>"
      ],
      "text/plain": [
       "   Invoice StockCode                   Description  Quantity  \\\n",
       "1   489434    79323P            PINK CHERRY LIGHTS        12   \n",
       "2   489434    79323W           WHITE CHERRY LIGHTS        12   \n",
       "12  489436    48173C         DOOR MAT BLACK FLOCK         10   \n",
       "23  489436    35004B   SET OF 3 BLACK FLYING DUCKS        12   \n",
       "28  489436    84596F  SMALL MARSHMALLOWS PINK BOWL         8   \n",
       "\n",
       "           InvoiceDate                Price          Customer ID  \\\n",
       "1  2009-12-01 07:45:00                 6.75             13085.00   \n",
       "2  2009-12-01 07:45:00                 6.75             13085.00   \n",
       "12 2009-12-01 09:06:00                 5.95             13078.00   \n",
       "23 2009-12-01 09:06:00                 4.65             13078.00   \n",
       "28 2009-12-01 09:06:00                 1.25             13078.00   \n",
       "\n",
       "           Country  \n",
       "1   United Kingdom  \n",
       "2   United Kingdom  \n",
       "12  United Kingdom  \n",
       "23  United Kingdom  \n",
       "28  United Kingdom  "
      ]
     },
     "execution_count": 32,
     "metadata": {},
     "output_type": "execute_result"
    }
   ],
   "source": [
    "df[\"StockCode\"] = df[\"StockCode\"].astype('str')\n",
    "\n",
    "df[df['StockCode'].str.match(\"^\\\\d{5}$\") == False].head()"
   ]
  },
  {
   "cell_type": "markdown",
   "id": "15cee27d",
   "metadata": {},
   "source": [
    "Existem outros 'StockCode's que possuem mais de cinco digitos numéricos, verificando todos que existem, temos:"
   ]
  },
  {
   "cell_type": "code",
   "execution_count": 33,
   "id": "9af373d0",
   "metadata": {},
   "outputs": [
    {
     "data": {
      "text/plain": [
       "array(['POST', 'D', 'DCGS0058', 'DCGS0068', 'DOT', 'M', 'DCGS0004',\n",
       "       'DCGS0076', 'C2', 'BANK CHARGES', 'DCGS0003', 'TEST001',\n",
       "       'gift_0001_80', 'DCGS0072', 'gift_0001_20', 'DCGS0044', 'TEST002',\n",
       "       'gift_0001_10', 'gift_0001_50', 'DCGS0066N', 'gift_0001_30',\n",
       "       'PADS', 'ADJUST', 'gift_0001_40', 'gift_0001_60', 'gift_0001_70',\n",
       "       'gift_0001_90', 'DCGSSGIRL', 'DCGS0006', 'DCGS0016', 'DCGS0027',\n",
       "       'DCGS0036', 'DCGS0039', 'DCGS0060', 'DCGS0056', 'DCGS0059', 'GIFT',\n",
       "       'DCGSLBOY', 'm', 'DCGS0053', 'DCGS0062', 'DCGS0037', 'DCGSSBOY',\n",
       "       'DCGSLGIRL', 'S', 'DCGS0069', 'DCGS0070', 'DCGS0075', 'B',\n",
       "       'DCGS0041', 'ADJUST2', '47503J ', 'C3', 'SP1002', 'AMAZONFEE'],\n",
       "      dtype=object)"
      ]
     },
     "execution_count": 33,
     "metadata": {},
     "output_type": "execute_result"
    }
   ],
   "source": [
    "df[(df['StockCode'].str.match(\"^\\\\d{5}$\") == False) &\n",
    "   (df['StockCode'].str.match(\"^\\\\d{5}[a-zA-Z]+$\") == False)]['StockCode'].unique()\n",
    "# estamos verificando em que situações os valores da variável StockCode não possui\n",
    "# cinco digitos e não possui letras[a-zA-z] no final da string, o '+' serve para indicar que\n",
    "# podem existir letras que se repetem"
   ]
  },
  {
   "cell_type": "markdown",
   "id": "07d36a4a",
   "metadata": {},
   "source": [
    "É necessário verificar todos esses casos."
   ]
  },
  {
   "cell_type": "code",
   "execution_count": 34,
   "id": "3b3d5600",
   "metadata": {},
   "outputs": [
    {
     "data": {
      "text/html": [
       "<div>\n",
       "<style scoped>\n",
       "    .dataframe tbody tr th:only-of-type {\n",
       "        vertical-align: middle;\n",
       "    }\n",
       "\n",
       "    .dataframe tbody tr th {\n",
       "        vertical-align: top;\n",
       "    }\n",
       "\n",
       "    .dataframe thead th {\n",
       "        text-align: right;\n",
       "    }\n",
       "</style>\n",
       "<table border=\"1\" class=\"dataframe\">\n",
       "  <thead>\n",
       "    <tr style=\"text-align: right;\">\n",
       "      <th></th>\n",
       "      <th>Invoice</th>\n",
       "      <th>StockCode</th>\n",
       "      <th>Description</th>\n",
       "      <th>Quantity</th>\n",
       "      <th>InvoiceDate</th>\n",
       "      <th>Price</th>\n",
       "      <th>Customer ID</th>\n",
       "      <th>Country</th>\n",
       "    </tr>\n",
       "  </thead>\n",
       "  <tbody>\n",
       "    <tr>\n",
       "      <th>2379</th>\n",
       "      <td>489597</td>\n",
       "      <td>DOT</td>\n",
       "      <td>DOTCOM POSTAGE</td>\n",
       "      <td>1</td>\n",
       "      <td>2009-12-01 14:28:00</td>\n",
       "      <td>647.19</td>\n",
       "      <td>NaN</td>\n",
       "      <td>United Kingdom</td>\n",
       "    </tr>\n",
       "    <tr>\n",
       "      <th>2539</th>\n",
       "      <td>489600</td>\n",
       "      <td>DOT</td>\n",
       "      <td>DOTCOM POSTAGE</td>\n",
       "      <td>1</td>\n",
       "      <td>2009-12-01 14:43:00</td>\n",
       "      <td>55.96</td>\n",
       "      <td>NaN</td>\n",
       "      <td>United Kingdom</td>\n",
       "    </tr>\n",
       "    <tr>\n",
       "      <th>2551</th>\n",
       "      <td>489601</td>\n",
       "      <td>DOT</td>\n",
       "      <td>DOTCOM POSTAGE</td>\n",
       "      <td>1</td>\n",
       "      <td>2009-12-01 14:44:00</td>\n",
       "      <td>68.39</td>\n",
       "      <td>NaN</td>\n",
       "      <td>United Kingdom</td>\n",
       "    </tr>\n",
       "    <tr>\n",
       "      <th>2571</th>\n",
       "      <td>489602</td>\n",
       "      <td>DOT</td>\n",
       "      <td>DOTCOM POSTAGE</td>\n",
       "      <td>1</td>\n",
       "      <td>2009-12-01 14:45:00</td>\n",
       "      <td>59.35</td>\n",
       "      <td>NaN</td>\n",
       "      <td>United Kingdom</td>\n",
       "    </tr>\n",
       "    <tr>\n",
       "      <th>2619</th>\n",
       "      <td>489603</td>\n",
       "      <td>DOT</td>\n",
       "      <td>DOTCOM POSTAGE</td>\n",
       "      <td>1</td>\n",
       "      <td>2009-12-01 14:46:00</td>\n",
       "      <td>42.39</td>\n",
       "      <td>NaN</td>\n",
       "      <td>United Kingdom</td>\n",
       "    </tr>\n",
       "  </tbody>\n",
       "</table>\n",
       "</div>"
      ],
      "text/plain": [
       "     Invoice StockCode     Description  Quantity         InvoiceDate  \\\n",
       "2379  489597       DOT  DOTCOM POSTAGE         1 2009-12-01 14:28:00   \n",
       "2539  489600       DOT  DOTCOM POSTAGE         1 2009-12-01 14:43:00   \n",
       "2551  489601       DOT  DOTCOM POSTAGE         1 2009-12-01 14:44:00   \n",
       "2571  489602       DOT  DOTCOM POSTAGE         1 2009-12-01 14:45:00   \n",
       "2619  489603       DOT  DOTCOM POSTAGE         1 2009-12-01 14:46:00   \n",
       "\n",
       "                    Price  Customer ID         Country  \n",
       "2379               647.19          NaN  United Kingdom  \n",
       "2539                55.96          NaN  United Kingdom  \n",
       "2551                68.39          NaN  United Kingdom  \n",
       "2571                59.35          NaN  United Kingdom  \n",
       "2619                42.39          NaN  United Kingdom  "
      ]
     },
     "execution_count": 34,
     "metadata": {},
     "output_type": "execute_result"
    }
   ],
   "source": [
    "df[df[\"StockCode\"].str.contains(\"^DOT\")].head()"
   ]
  },
  {
   "cell_type": "markdown",
   "id": "23a21fcd",
   "metadata": {},
   "source": [
    "Nota:"
   ]
  },
  {
   "cell_type": "markdown",
   "id": "72a49fbb",
   "metadata": {},
   "source": [
    "StockCode deve seguir o padrão [0-9]{5} mas aparenta apresentar valores legítimos para o padrão [0-9]{5}[a-zA-Z]+\n",
    "Além disso contém outros valores da forma:\n",
    "\n",
    "| Código | Descrição | Ação | \n",
    "|---------|-------------|----------|\n",
    "| DCGS | CustomerId nulo | Excluir| \n",
    "| D | Representa desconto de valores | Excluir | \n",
    "| DOT | Custo de postagem | Exclurir | \n",
    "| M ou m | Transações manuais | Excluir | \n",
    "| C2 | Custo de transporte (?) | Excluir | \n",
    "| C3 | Não sei, apenas uma transação | Excluir | \n",
    "| BANK CHARGES ou B | Tarifas de Banco | Excluir| \n",
    "| S | Amostras enviadas aos clientes | Excluir | \n",
    "| TESTXXX | Dados de teste, não é válido | Excluir | \n",
    "| gift__XXX | Compras com \"gift cards\" | Excluir | \n",
    "| PADS | Código de estoque para preenchimento | Incluir | \n",
    "| SP1002 | Pedidos especiais para itens, apenas 3 transações | Excluir| \n",
    "| AMAZONFEE | Taxa para transporte com a Amazon | Excluir |\n",
    "| ADJUSTX | Ajuste manual feito pelos Adms | Excluir |"
   ]
  },
  {
   "cell_type": "markdown",
   "id": "c06a6f7e",
   "metadata": {},
   "source": [
    "### Limpando o banco de dados"
   ]
  },
  {
   "cell_type": "code",
   "execution_count": null,
   "id": "62f24aca",
   "metadata": {},
   "outputs": [],
   "source": [
    "cleaned_df = df.copy()"
   ]
  },
  {
   "cell_type": "markdown",
   "id": "507ec03f",
   "metadata": {},
   "source": [
    "##### Invoice"
   ]
  },
  {
   "cell_type": "code",
   "execution_count": null,
   "id": "eb02533f",
   "metadata": {},
   "outputs": [],
   "source": [
    "cleaned_df[\"Invoice\"] = cleaned_df[\"Invoice\"].astype('str')\n",
    "# transformando todos os valores de \"Invoice\" em strings\n",
    "\n",
    "\n",
    "# mask é usado como uma expressão para filtrar os dados no pandas!\n",
    "mask = (\n",
    "    cleaned_df[\"Invoice\"].str.match(\"^\\\\d{6}$\") == True\n",
    ")\n",
    "\n",
    "cleaned_df = cleaned_df[mask]\n",
    "# queremos que cleaned_df seja um DataFrame que respeita as regras impostas pelo\n",
    "# filtro \"mask\""
   ]
  },
  {
   "cell_type": "markdown",
   "id": "e6e81c94",
   "metadata": {},
   "source": [
    "##### StockCode"
   ]
  },
  {
   "cell_type": "code",
   "execution_count": null,
   "id": "d3151ec2",
   "metadata": {},
   "outputs": [],
   "source": [
    "cleaned_df[\"StockCode\"] = cleaned_df[\"StockCode\"].astype(\"str\")\n",
    "\n",
    "# queremos os valores de \"StockCode\" que contenham 5 digitos, 5 digitos seguidos por\n",
    "# letras, e que contenham o código \"PADS\". \"|\" serve com \"ou\"\n",
    "\n",
    "mask = (\n",
    "    (cleaned_df[\"StockCode\"].str.match(\"^\\\\d{5}$\") == True)\n",
    "    | (cleaned_df[\"StockCode\"].str.match(\"^\\\\d{5}[a-zA-Z]+$\"))\n",
    "    | (cleaned_df[\"StockCode\"].str.match(\"^PADS$\"))\n",
    ")\n",
    "\n",
    "cleaned_df = cleaned_df[mask]"
   ]
  },
  {
   "cell_type": "markdown",
   "id": "cf596e14",
   "metadata": {},
   "source": [
    "##### Customerr ID"
   ]
  },
  {
   "cell_type": "code",
   "execution_count": 39,
   "id": "2c4abb73",
   "metadata": {},
   "outputs": [],
   "source": [
    "cleaned_df.dropna(subset=[\"Customer ID\"], inplace=True)"
   ]
  },
  {
   "cell_type": "code",
   "execution_count": 40,
   "id": "7b6e746e",
   "metadata": {},
   "outputs": [
    {
     "data": {
      "text/html": [
       "<div>\n",
       "<style scoped>\n",
       "    .dataframe tbody tr th:only-of-type {\n",
       "        vertical-align: middle;\n",
       "    }\n",
       "\n",
       "    .dataframe tbody tr th {\n",
       "        vertical-align: top;\n",
       "    }\n",
       "\n",
       "    .dataframe thead th {\n",
       "        text-align: right;\n",
       "    }\n",
       "</style>\n",
       "<table border=\"1\" class=\"dataframe\">\n",
       "  <thead>\n",
       "    <tr style=\"text-align: right;\">\n",
       "      <th></th>\n",
       "      <th>Quantity</th>\n",
       "      <th>InvoiceDate</th>\n",
       "      <th>Price</th>\n",
       "      <th>Customer ID</th>\n",
       "    </tr>\n",
       "  </thead>\n",
       "  <tbody>\n",
       "    <tr>\n",
       "      <th>count</th>\n",
       "      <td>407695.00</td>\n",
       "      <td>407695</td>\n",
       "      <td>407695.00</td>\n",
       "      <td>407695.00</td>\n",
       "    </tr>\n",
       "    <tr>\n",
       "      <th>mean</th>\n",
       "      <td>13.59</td>\n",
       "      <td>2010-07-01 10:10:10.782177792</td>\n",
       "      <td>3.29</td>\n",
       "      <td>15368.50</td>\n",
       "    </tr>\n",
       "    <tr>\n",
       "      <th>min</th>\n",
       "      <td>1.00</td>\n",
       "      <td>2009-12-01 07:45:00</td>\n",
       "      <td>0.00</td>\n",
       "      <td>12346.00</td>\n",
       "    </tr>\n",
       "    <tr>\n",
       "      <th>25%</th>\n",
       "      <td>2.00</td>\n",
       "      <td>2010-03-26 14:01:00</td>\n",
       "      <td>1.25</td>\n",
       "      <td>13997.00</td>\n",
       "    </tr>\n",
       "    <tr>\n",
       "      <th>50%</th>\n",
       "      <td>5.00</td>\n",
       "      <td>2010-07-09 15:46:00</td>\n",
       "      <td>1.95</td>\n",
       "      <td>15321.00</td>\n",
       "    </tr>\n",
       "    <tr>\n",
       "      <th>75%</th>\n",
       "      <td>12.00</td>\n",
       "      <td>2010-10-14 17:09:00</td>\n",
       "      <td>3.75</td>\n",
       "      <td>16812.00</td>\n",
       "    </tr>\n",
       "    <tr>\n",
       "      <th>max</th>\n",
       "      <td>19152.00</td>\n",
       "      <td>2010-12-09 20:01:00</td>\n",
       "      <td>10953.50</td>\n",
       "      <td>18287.00</td>\n",
       "    </tr>\n",
       "    <tr>\n",
       "      <th>std</th>\n",
       "      <td>96.84</td>\n",
       "      <td>NaN</td>\n",
       "      <td>34.76</td>\n",
       "      <td>1679.80</td>\n",
       "    </tr>\n",
       "  </tbody>\n",
       "</table>\n",
       "</div>"
      ],
      "text/plain": [
       "                  Quantity                    InvoiceDate  \\\n",
       "count            407695.00                         407695   \n",
       "mean                 13.59  2010-07-01 10:10:10.782177792   \n",
       "min                   1.00            2009-12-01 07:45:00   \n",
       "25%                   2.00            2010-03-26 14:01:00   \n",
       "50%                   5.00            2010-07-09 15:46:00   \n",
       "75%                  12.00            2010-10-14 17:09:00   \n",
       "max               19152.00            2010-12-09 20:01:00   \n",
       "std                  96.84                            NaN   \n",
       "\n",
       "                     Price          Customer ID  \n",
       "count            407695.00            407695.00  \n",
       "mean                  3.29             15368.50  \n",
       "min                   0.00             12346.00  \n",
       "25%                   1.25             13997.00  \n",
       "50%                   1.95             15321.00  \n",
       "75%                   3.75             16812.00  \n",
       "max               10953.50             18287.00  \n",
       "std                  34.76              1679.80  "
      ]
     },
     "execution_count": 40,
     "metadata": {},
     "output_type": "execute_result"
    }
   ],
   "source": [
    "cleaned_df.describe()"
   ]
  },
  {
   "cell_type": "markdown",
   "id": "e02f5caf",
   "metadata": {},
   "source": [
    "##### Price"
   ]
  },
  {
   "cell_type": "markdown",
   "id": "d274e0e7",
   "metadata": {},
   "source": [
    "Aparentam existir valores de preço iguais a zero nas transações."
   ]
  },
  {
   "cell_type": "code",
   "execution_count": 48,
   "id": "70831c99",
   "metadata": {},
   "outputs": [],
   "source": [
    "cleaned_df = cleaned_df[cleaned_df[\"Price\"] > 0]"
   ]
  },
  {
   "cell_type": "code",
   "execution_count": 49,
   "id": "aff655ed",
   "metadata": {},
   "outputs": [
    {
     "data": {
      "text/plain": [
       "0.001"
      ]
     },
     "execution_count": 49,
     "metadata": {},
     "output_type": "execute_result"
    }
   ],
   "source": [
    "cleaned_df[\"Price\"].min()"
   ]
  },
  {
   "cell_type": "code",
   "execution_count": 50,
   "id": "43ee26fd",
   "metadata": {},
   "outputs": [
    {
     "data": {
      "text/plain": [
       "0"
      ]
     },
     "execution_count": 50,
     "metadata": {},
     "output_type": "execute_result"
    }
   ],
   "source": [
    "len(cleaned_df[cleaned_df[\"Price\"] == 0])"
   ]
  },
  {
   "cell_type": "code",
   "execution_count": 51,
   "id": "d15404ad",
   "metadata": {},
   "outputs": [
    {
     "data": {
      "text/plain": [
       "0.001"
      ]
     },
     "execution_count": 51,
     "metadata": {},
     "output_type": "execute_result"
    }
   ],
   "source": [
    "cleaned_df[\"Price\"].min()"
   ]
  },
  {
   "cell_type": "markdown",
   "id": "b5a22afd",
   "metadata": {},
   "source": [
    "Notamos que não existem preços de transações iguais a zero, mesmo que possuam valores muito pequenos, todas são maiores que zero, então serão mantidas no banco de dados."
   ]
  },
  {
   "cell_type": "code",
   "execution_count": 53,
   "id": "5212f6c9",
   "metadata": {},
   "outputs": [
    {
     "name": "stdout",
     "output_type": "stream",
     "text": [
      "0.7758216118798541\n"
     ]
    }
   ],
   "source": [
    "print(len(cleaned_df) / len(df))"
   ]
  },
  {
   "cell_type": "markdown",
   "id": "6b510764",
   "metadata": {},
   "source": [
    "Após a limpeza dos dados, perdemos aproximadamente 23% dos dados."
   ]
  }
 ],
 "metadata": {
  "kernelspec": {
   "display_name": "Python 3",
   "language": "python",
   "name": "python3"
  },
  "language_info": {
   "codemirror_mode": {
    "name": "ipython",
    "version": 3
   },
   "file_extension": ".py",
   "mimetype": "text/x-python",
   "name": "python",
   "nbconvert_exporter": "python",
   "pygments_lexer": "ipython3",
   "version": "3.12.0"
  }
 },
 "nbformat": 4,
 "nbformat_minor": 5
}
